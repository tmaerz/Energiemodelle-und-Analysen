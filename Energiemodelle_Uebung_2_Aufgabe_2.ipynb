{
 "cells": [
  {
   "cell_type": "markdown",
   "id": "b4db068d",
   "metadata": {},
   "source": [
    "# Energiemodelle und Analyse\n",
    "## Übung 2\n",
    "### Aufgabe 2.3.1 a)"
   ]
  },
  {
   "cell_type": "markdown",
   "id": "6c134c33",
   "metadata": {},
   "source": [
    "Nachfolgend ist das verwendete,  mathematisches Modell des Optimierungsmodells dargestellt:  \n",
    "  \n",
    "Zielfunktion: $min (z) = c_{S,T1} \\cdot x_1 + c_{S,T2} \\cdot x_2 + c_{F,T1} \\cdot x_3 + c_{F,T2} \\cdot x_4 + c_{B,T1} \\cdot x_5 + c_{B,T2} \\cdot x_6$ \n",
    "\n",
    "NB1: $12 \\cdot x_1 + 9 \\cdot x_2 + 25 \\cdot x_3 + 20 \\cdot x_4 + 17 \\cdot x_5 + 13 \\cdot x_6 \\geqq 60$ in 1000 Tonnen  \n",
    "NB2: $35 \\cdot x_1 + 42 \\cdot x_2 + 18 \\cdot x_3 + 31 \\cdot x_4 + 56 \\cdot x_5 + 49 \\cdot x_6 \\geqq 150$ in 1000 Tonnen  \n",
    "NB3: $37 \\cdot x_1 + 53 \\cdot x_2 + 28 \\cdot x_3 + 24 \\cdot x_4 + 29 \\cdot x_5 + 20 \\cdot x_6 \\geqq 125$ in 1000 Tonnen  "
   ]
  },
  {
   "cell_type": "code",
   "execution_count": 84,
   "id": "d3485f86",
   "metadata": {},
   "outputs": [],
   "source": [
    "c_ST1 = 8   # in 1000 Tonnen\n",
    "c_ST2 = 10  # in 1000 Tonnen\n",
    "c_FT1 = 7   # in 1000 Tonnen\n",
    "c_FT2 = 6   # in 1000 Tonnen\n",
    "c_BT1 = 11  # in 1000 Tonnen\n",
    "c_BT2 = 9   # in 1000 Tonnen\n"
   ]
  },
  {
   "cell_type": "code",
   "execution_count": 85,
   "id": "15edaa90",
   "metadata": {},
   "outputs": [],
   "source": [
    "def output_result(model):\n",
    "    \"\"\"Gibt Alle Variablen, Nebenbedingungen und die Zielfunktion vom Modell zurück\"\"\"\n",
    "    NB1 = 0\n",
    "    NB2 = 0 \n",
    "    NB3 = 0 \n",
    "    min_z = 0\n",
    "\n",
    "    NB1 = 12*model.x1.value + 9*model.x2.value + 25*model.x3.value + 20*model.x4.value + 17*model.x5.value + 13*model.x6.value\n",
    "    NB2 = 35*model.x1.value + 42*model.x2.value + 18*model.x3.value + 31*model.x4.value + 56*model.x5.value + 49*model.x6.value\n",
    "    NB3 = 37*model.x1.value + 53*model.x2.value + 28*model.x3.value + 24*model.x4.value + 29*model.x5.value + 20*model.x6.value\n",
    "    min_z = c_ST1 * model.x1.value + c_ST2 * model.x2.value + c_FT1 * model.x3.value + c_FT2 * model.x4.value + c_BT1 * model.x5.value + c_BT2 * model.x6.value\n",
    "\n",
    "    print(\"x1 = \" + str(model.x1.value))\n",
    "    print(\"x2 = \" + str(model.x2.value))\n",
    "    print(\"x3 = \" + str(model.x3.value))\n",
    "    print(\"x4 = \" + str(model.x4.value))\n",
    "    print(\"x5 = \" + str(model.x5.value))\n",
    "    print(\"x6 = \" + str(model.x6.value))\n",
    "    print(\"Nebenbedingung 1: \" + str(NB1))\n",
    "    print(\"Nebenbedingung 2: \" + str(NB2))\n",
    "    print(\"Nebenbedingung 3: \" + str(NB3))\n",
    "    print(\"Minimale Zielfunktion: \" + str(min_z))\n"
   ]
  },
  {
   "cell_type": "markdown",
   "id": "f7c10049",
   "metadata": {},
   "source": [
    "### Aufgabe 2.3.1 b)\n",
    "Das oben aufgestellte Modell wurde mittels Pyomo und Gurobi gelöst. Alle Maßnahmen können von 0-100% umgesetzt werden und somit auch die Kosten und die Emissionen. Die Variablen werden mittels Nebenbedingungen zwishcne 0 und 1 definiert. Die Lösungen der einzelnen Paramter und Nebenbedingungen werden im Folgenden Code-Abschnitt ausgegeben. Daraus ergibt sich das Minimum der Kosten für die Maßnahmen zu 32,155 Mio.€."
   ]
  },
  {
   "cell_type": "code",
   "execution_count": 86,
   "id": "78d4af04",
   "metadata": {},
   "outputs": [],
   "source": [
    "from pyomo.environ import *\n",
    "import numpy as np\n",
    "import pandas as pd\n",
    "\n",
    "model1 = ConcreteModel()\n",
    "\n",
    "# adding decision variables \n",
    "model1.x1 = Var(within=NonNegativeReals)\n",
    "model1.x2 = Var(within=NonNegativeReals)\n",
    "model1.x3 = Var(within=NonNegativeReals)\n",
    "model1.x4 = Var(within=NonNegativeReals)\n",
    "model1.x5 = Var(within=NonNegativeReals)\n",
    "model1.x6 = Var(within=NonNegativeReals)\n",
    "\n",
    "# adding constraints\n",
    "model1.Constraint1 = Constraint(expr = (12*model1.x1 + 9*model1.x2 + 25*model1.x3 + 20*model1.x4 + 17*model1.x5 + 13*model1.x6 >= 60))\n",
    "model1.Constraint2 = Constraint(expr = (35*model1.x1 + 42*model1.x2 + 18*model1.x3 + 31*model1.x4 + 56*model1.x5 + 49*model1.x6 >= 150))\n",
    "model1.Constraint3 = Constraint(expr = (37*model1.x1 + 53*model1.x2 + 28*model1.x3 + 24*model1.x4 + 29*model1.x5 + 20*model1.x6 >= 125))\n",
    "model1.Constraint4 = Constraint(expr = (model1.x1 >= 0))\n",
    "model1.Constraint5 = Constraint(expr = (model1.x1 <= 1))\n",
    "model1.Constraint6 = Constraint(expr = (model1.x2 >= 0))\n",
    "model1.Constraint7 = Constraint(expr = (model1.x2 <= 1))\n",
    "model1.Constraint8 = Constraint(expr = (model1.x3 >= 0))\n",
    "model1.Constraint9 = Constraint(expr = (model1.x3 <= 1))\n",
    "model1.Constraint10 = Constraint(expr = (model1.x4 >= 0))\n",
    "model1.Constraint11 = Constraint(expr = (model1.x4 <= 1))\n",
    "model1.Constraint12 = Constraint(expr = (model1.x5 >= 0))\n",
    "model1.Constraint13 = Constraint(expr = (model1.x5 <= 1))\n",
    "model1.Constraint14 = Constraint(expr = (model1.x6 >= 0))\n",
    "model1.Constraint15 = Constraint(expr = (model1.x6 <= 1))\n",
    "\n",
    "# objective function\n",
    "model1.obj = Objective(expr = (c_ST1 * model1.x1 + c_ST2 * model1.x2 + c_FT1 * model1.x3 + c_FT2 * model1.x4 + c_BT1 * model1.x5 + c_BT2 * model1.x6), sense=minimize)"
   ]
  },
  {
   "cell_type": "code",
   "execution_count": 87,
   "id": "e2ff7647",
   "metadata": {},
   "outputs": [
    {
     "name": "stdout",
     "output_type": "stream",
     "text": [
      "x1 = 1.0\n",
      "x2 = 0.6226974547362898\n",
      "x3 = 0.3434794017318289\n",
      "x4 = 1.0\n",
      "x5 = 0.04757281553398052\n",
      "x6 = 1.0\n",
      "Nebenbedingung 1: 60.0\n",
      "Nebenbedingung 2: 150.0\n",
      "Nebenbedingung 3: 125.0\n",
      "Minimale Zielfunktion: 32.154631330359486\n"
     ]
    }
   ],
   "source": [
    "import gurobipy\n",
    "opt = SolverFactory('gurobi')\n",
    "opt_success1 = opt.solve(model1)\n",
    "\n",
    "output_result(model1)\n",
    "\n",
    "# printing solution\n",
    "# model1.display()"
   ]
  },
  {
   "cell_type": "markdown",
   "id": "6dd40652",
   "metadata": {},
   "source": [
    "### Aufgabe 2.3.2 c)\n",
    "Im Folgenden Modell können die Maßnahmen nur zu 100% oder 0% umgesetzt werden. Die Variablen wurden daher binär definiert, können also nur den Wert 0 oder 1 annehmen. Erneut werden alle Variablen und Nebenbedingungen unterhalb des nächsten Code-Abschnitts ausgegeben. Wie zu erwarten war steigt das Minimum der Kostenfunktion im Vergleich zum vorherigen Modell. Es beträgt 36 Mio.€."
   ]
  },
  {
   "cell_type": "code",
   "execution_count": 88,
   "id": "77c125d6",
   "metadata": {},
   "outputs": [
    {
     "name": "stdout",
     "output_type": "stream",
     "text": [
      "x1 = 1.0\n",
      "x2 = 1.0\n",
      "x3 = 1.0\n",
      "x4 = 0.0\n",
      "x5 = 1.0\n",
      "x6 = 0.0\n",
      "Nebenbedingung 1: 63.0\n",
      "Nebenbedingung 2: 151.0\n",
      "Nebenbedingung 3: 147.0\n",
      "Minimale Zielfunktion: 36.0\n"
     ]
    }
   ],
   "source": [
    "from pyomo.environ import *\n",
    "import numpy as np\n",
    "import pandas as pd\n",
    "import gurobipy\n",
    "\n",
    "\n",
    "model2 = ConcreteModel()\n",
    "\n",
    "# adding decision variables \n",
    "model2.x1 = Var(within=[0,1])\n",
    "model2.x2 = Var(within=[0,1])\n",
    "model2.x3 = Var(within=[0,1])\n",
    "model2.x4 = Var(within=[0,1])\n",
    "model2.x5 = Var(within=[0,1])\n",
    "model2.x6 = Var(within=[0,1])\n",
    "\n",
    "# adding constraints\n",
    "model2.Constraint1 = Constraint(expr = (12*model2.x1 + 9*model2.x2 + 25*model2.x3 + 20*model2.x4 + 17*model2.x5 + 13*model2.x6 >= 60))\n",
    "model2.Constraint2 = Constraint(expr = (35*model2.x1 + 42*model2.x2 + 18*model2.x3 + 31*model2.x4 + 56*model2.x5 + 49*model2.x6 >= 150))\n",
    "model2.Constraint3 = Constraint(expr = (37*model2.x1 + 53*model2.x2 + 28*model2.x3 + 24*model2.x4 + 29*model2.x5 + 20*model2.x6 >= 125))\n",
    "\n",
    "# objective function\n",
    "model2.obj = Objective(expr = (c_ST1 * model2.x1 + c_ST2 * model2.x2 + c_FT1 * model2.x3 + c_FT2 * model2.x4 + c_BT1 * model2.x5 + c_BT2 * model2.x6), sense=minimize)\n",
    "\n",
    "\n",
    "opt = SolverFactory('gurobi')\n",
    "opt_success = opt.solve(model2)\n",
    "\n",
    "output_result(model2)\n",
    "\n",
    "# printing solution\n",
    "# model2.display()"
   ]
  },
  {
   "cell_type": "markdown",
   "id": "53c70163",
   "metadata": {},
   "source": [
    "### Aufgabe 2.3.2 d)\n",
    "Nun soll entweder Typ 1 oder Typ 2 der Maßnahmen umgesetzt werden. Es wurden binäre Dummy-Variablen eingeführt, um zwischen der Umsetzung von Typ 1 oder Typ 2 zu entscheiden. Wenn die Dummy-Variable gleich 1 ist, wird Typ 1 umgesetzt, andernfalls Typ 2.  \n",
    "Unter diesen Bedingungen ergibt das Modell, dass die vorgegebenen Emissionsreduktionen nicht erreicht werden können."
   ]
  },
  {
   "cell_type": "code",
   "execution_count": 89,
   "id": "685de9e5",
   "metadata": {},
   "outputs": [
    {
     "name": "stdout",
     "output_type": "stream",
     "text": [
      "WARNING: Loading a SolverResults object with a warning status into\n",
      "model.name=\"unknown\";\n",
      "    - termination condition: infeasible\n",
      "    - message from solver: Model was proven to be infeasible.\n",
      "Model unknown\n",
      "\n",
      "  Variables:\n",
      "    d1 : Size=1, Index=None\n",
      "        Key  : Lower : Value : Upper : Fixed : Stale : Domain\n",
      "        None :     0 :  None :     1 : False :  True : {0, 1}\n",
      "    d2 : Size=1, Index=None\n",
      "        Key  : Lower : Value : Upper : Fixed : Stale : Domain\n",
      "        None :     0 :  None :     1 : False :  True : {0, 1}\n",
      "    d3 : Size=1, Index=None\n",
      "        Key  : Lower : Value : Upper : Fixed : Stale : Domain\n",
      "        None :     0 :  None :     1 : False :  True : {0, 1}\n",
      "\n",
      "  Objectives:\n",
      "    obj : Size=1, Index=None, Active=True\n",
      "ERROR: evaluating object as numeric value: d1\n",
      "        (object: <class 'pyomo.core.base.var.ScalarVar'>)\n",
      "    No value for uninitialized NumericValue object d1\n",
      "ERROR: evaluating object as numeric value: obj\n",
      "        (object: <class 'pyomo.core.base.objective.ScalarObjective'>)\n",
      "    No value for uninitialized NumericValue object d1\n",
      "        Key : Active : Value\n",
      "        None :   None :  None\n",
      "\n",
      "  Constraints:\n",
      "    Constraint1 : Size=1\n",
      "        Key  : Lower : Body : Upper\n",
      "        None :  60.0 : None :  None\n",
      "    Constraint2 : Size=1\n",
      "        Key  : Lower : Body : Upper\n",
      "        None : 150.0 : None :  None\n",
      "    Constraint3 : Size=1\n",
      "        Key  : Lower : Body : Upper\n",
      "        None : 125.0 : None :  None\n"
     ]
    }
   ],
   "source": [
    "from pyomo.environ import *\n",
    "import numpy as np\n",
    "import pandas as pd\n",
    "import gurobipy\n",
    "\n",
    "NB1 = 0\n",
    "NB2 = 0\n",
    "NB3 = 0 \n",
    "min_z = 0\n",
    "\n",
    "model3 = ConcreteModel()\n",
    "\n",
    "# adding decision variables \n",
    "\n",
    "model3.d1 = Var(within=[0,1])   # Dummy variable 1\n",
    "\n",
    "model3.d2 = Var(within=[0,1])   # Dummy Variable 2\n",
    "\n",
    "model3.d3 = Var(within=[0,1])   # Dummy Variable 3\n",
    "\n",
    "\n",
    "# adding constraints\n",
    "model3.Constraint1 = Constraint(expr = (12*model3.d1 + 9*(1-model3.d1) + 25*model3.d2 + 20*(1-model3.d2) + 17*model3.d3 + 13*(1-model3.d3) >= 60))\n",
    "model3.Constraint2 = Constraint(expr = (35*model3.d1 + 42*(1-model3.d1) + 18*model3.d2 + 31*(1-model3.d2) + 56*model3.d3 + 49*(1-model3.d3) >= 150))\n",
    "model3.Constraint3 = Constraint(expr = (37*model3.d1 + 53*(1-model3.d1) + 28*model3.d2 + 24*(1-model3.d2) + 29*model3.d3 + 20*(1-model3.d3) >= 125))\n",
    "\n",
    "# objective function\n",
    "model3.obj = Objective(expr = (c_ST1*model3.d1 + c_ST2*(1-model3.d1) + c_FT1*(1-model3.d2) + c_FT2*(1-model3.d2) + c_BT1*(model3.d3) + c_BT2*(1-model3.d3)), sense=minimize)\n",
    "\n",
    "\n",
    "opt = SolverFactory('gurobi')\n",
    "opt_success = opt.solve(model3)\n",
    "\n",
    "\n",
    "# printing solution\n",
    "model3.display()"
   ]
  }
 ],
 "metadata": {
  "kernelspec": {
   "display_name": "Python 3 (ipykernel)",
   "language": "python",
   "name": "python3"
  },
  "language_info": {
   "codemirror_mode": {
    "name": "ipython",
    "version": 3
   },
   "file_extension": ".py",
   "mimetype": "text/x-python",
   "name": "python",
   "nbconvert_exporter": "python",
   "pygments_lexer": "ipython3",
   "version": "3.9.7"
  }
 },
 "nbformat": 4,
 "nbformat_minor": 5
}
